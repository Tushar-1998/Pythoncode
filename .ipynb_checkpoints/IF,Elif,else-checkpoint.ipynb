{
 "cells": [
  {
   "cell_type": "code",
   "execution_count": 1,
   "id": "e88cdbd2",
   "metadata": {},
   "outputs": [
    {
     "ename": "SyntaxError",
     "evalue": "invalid syntax (<ipython-input-1-7d12a225f9e7>, line 1)",
     "output_type": "error",
     "traceback": [
      "\u001b[1;36m  File \u001b[1;32m\"<ipython-input-1-7d12a225f9e7>\"\u001b[1;36m, line \u001b[1;32m1\u001b[0m\n\u001b[1;33m    <img src = \"Hello_world.jpeg\" width = \"500\" height = \"500\">\u001b[0m\n\u001b[1;37m    ^\u001b[0m\n\u001b[1;31mSyntaxError\u001b[0m\u001b[1;31m:\u001b[0m invalid syntax\n"
     ]
    }
   ],
   "source": [
    "<img src = \"Hello_world.jpeg\" width = \"500\" height = \"500\">\n"
   ]
  },
  {
   "cell_type": "code",
   "execution_count": 12,
   "id": "235b66ec",
   "metadata": {},
   "outputs": [
    {
     "name": "stdout",
     "output_type": "stream",
     "text": [
      "remainder is not equals to 2\n"
     ]
    }
   ],
   "source": [
    "#Session Task do a/b, check if the remainder is = 2 or not\n",
    "a = 10\n",
    "b = 3 \n",
    "if(a%b == 2):\n",
    "    print(\"remainder is 2\")\n",
    "else:\n",
    "    print(\"remainder is not equals to 2\")"
   ]
  },
  {
   "cell_type": "code",
   "execution_count": 11,
   "id": "98227567",
   "metadata": {},
   "outputs": [
    {
     "name": "stdout",
     "output_type": "stream",
     "text": [
      "a is positive\n"
     ]
    }
   ],
   "source": [
    "a = 5\n",
    "if(a>0):\n",
    "    print(\"a is positive\")\n",
    "else:\n",
    "        print(\"a is negative\")"
   ]
  },
  {
   "cell_type": "code",
   "execution_count": 3,
   "id": "344634c5",
   "metadata": {},
   "outputs": [
    {
     "name": "stdout",
     "output_type": "stream",
     "text": [
      "10\n",
      "10\n"
     ]
    }
   ],
   "source": [
    "num1 = input()\n"
   ]
  },
  {
   "cell_type": "code",
   "execution_count": null,
   "id": "5ce5e39a",
   "metadata": {},
   "outputs": [],
   "source": []
  }
 ],
 "metadata": {
  "kernelspec": {
   "display_name": "Python 3",
   "language": "python",
   "name": "python3"
  },
  "language_info": {
   "codemirror_mode": {
    "name": "ipython",
    "version": 3
   },
   "file_extension": ".py",
   "mimetype": "text/x-python",
   "name": "python",
   "nbconvert_exporter": "python",
   "pygments_lexer": "ipython3",
   "version": "3.8.8"
  }
 },
 "nbformat": 4,
 "nbformat_minor": 5
}
