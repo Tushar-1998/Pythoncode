{
 "cells": [
  {
   "cell_type": "markdown",
   "id": "b7459b19",
   "metadata": {},
   "source": [
    "# Lambda function"
   ]
  },
  {
   "cell_type": "markdown",
   "id": "5086667c",
   "metadata": {},
   "source": [
    "######  Ex1) Squaring a number"
   ]
  },
  {
   "cell_type": "code",
   "execution_count": 1,
   "id": "3edec0d1",
   "metadata": {},
   "outputs": [
    {
     "data": {
      "text/plain": [
       "25"
      ]
     },
     "execution_count": 1,
     "metadata": {},
     "output_type": "execute_result"
    }
   ],
   "source": [
    "# with one argument\n",
    "\n",
    "# normal function\n",
    "def square(num):\n",
    "    return num**2\n",
    "\n",
    "square(5)"
   ]
  },
  {
   "cell_type": "code",
   "execution_count": 2,
   "id": "9d057d27",
   "metadata": {},
   "outputs": [],
   "source": [
    "# lambda functions\n",
    "square = lambda num:num**2"
   ]
  },
  {
   "cell_type": "code",
   "execution_count": 3,
   "id": "8447f70e",
   "metadata": {},
   "outputs": [
    {
     "data": {
      "text/plain": [
       "25"
      ]
     },
     "execution_count": 3,
     "metadata": {},
     "output_type": "execute_result"
    }
   ],
   "source": [
    "square(5)"
   ]
  },
  {
   "cell_type": "markdown",
   "id": "af14493b",
   "metadata": {},
   "source": [
    "###### Ex2) adding multiple number"
   ]
  },
  {
   "cell_type": "code",
   "execution_count": 5,
   "id": "25076ecb",
   "metadata": {},
   "outputs": [
    {
     "data": {
      "text/plain": [
       "30"
      ]
     },
     "execution_count": 5,
     "metadata": {},
     "output_type": "execute_result"
    }
   ],
   "source": [
    "# with multiple arguments\n",
    "# normal function\n",
    "def add(x,y,z):\n",
    "    return x + y + z\n",
    "\n",
    "add(5,10,15)"
   ]
  },
  {
   "cell_type": "code",
   "execution_count": null,
   "id": "dec45a61",
   "metadata": {},
   "outputs": [],
   "source": [
    "#lambda function.\n",
    "add = lambada x,y,x: x + y + z"
   ]
  },
  {
   "cell_type": "code",
   "execution_count": 6,
   "id": "48f8041e",
   "metadata": {},
   "outputs": [
    {
     "data": {
      "text/plain": [
       "30"
      ]
     },
     "execution_count": 6,
     "metadata": {},
     "output_type": "execute_result"
    }
   ],
   "source": [
    "add(5,10,15)"
   ]
  },
  {
   "cell_type": "markdown",
   "id": "c3be8404",
   "metadata": {},
   "source": [
    "### Using map() and filter() with lambda functions\n",
    "### Ex1) Square Ex"
   ]
  },
  {
   "cell_type": "code",
   "execution_count": 9,
   "id": "7fa28fc2",
   "metadata": {},
   "outputs": [
    {
     "data": {
      "text/plain": [
       "<map at 0x1d81f45d790>"
      ]
     },
     "execution_count": 9,
     "metadata": {},
     "output_type": "execute_result"
    }
   ],
   "source": [
    "# sequence\n",
    "my_nums = [1,2,3,4,5]\n",
    "\n",
    "# lambda with map function\n",
    "map(lambda num:num**2,my_nums)"
   ]
  },
  {
   "cell_type": "code",
   "execution_count": 11,
   "id": "512f4376",
   "metadata": {},
   "outputs": [
    {
     "name": "stdout",
     "output_type": "stream",
     "text": [
      "1\n",
      "4\n",
      "9\n",
      "16\n",
      "25\n"
     ]
    }
   ],
   "source": [
    "for item in map(lambda num:num**2,my_nums):\n",
    "    print(item)"
   ]
  },
  {
   "cell_type": "code",
   "execution_count": null,
   "id": "6a0e482f",
   "metadata": {},
   "outputs": [],
   "source": []
  },
  {
   "cell_type": "code",
   "execution_count": null,
   "id": "5a35b4df",
   "metadata": {},
   "outputs": [],
   "source": []
  },
  {
   "cell_type": "code",
   "execution_count": null,
   "id": "350a961e",
   "metadata": {},
   "outputs": [],
   "source": []
  },
  {
   "cell_type": "markdown",
   "id": "e0104a59",
   "metadata": {},
   "source": [
    "## Task 12"
   ]
  },
  {
   "cell_type": "code",
   "execution_count": null,
   "id": "6d282f02",
   "metadata": {},
   "outputs": [],
   "source": [
    "# python .reduce()"
   ]
  },
  {
   "cell_type": "code",
   "execution_count": null,
   "id": "8c508771",
   "metadata": {},
   "outputs": [],
   "source": []
  },
  {
   "cell_type": "code",
   "execution_count": null,
   "id": "71bd976f",
   "metadata": {},
   "outputs": [],
   "source": []
  },
  {
   "cell_type": "code",
   "execution_count": null,
   "id": "304e7130",
   "metadata": {},
   "outputs": [],
   "source": []
  },
  {
   "cell_type": "code",
   "execution_count": null,
   "id": "ea516f7d",
   "metadata": {},
   "outputs": [],
   "source": []
  },
  {
   "cell_type": "code",
   "execution_count": null,
   "id": "06b0b8a2",
   "metadata": {},
   "outputs": [],
   "source": []
  },
  {
   "cell_type": "code",
   "execution_count": null,
   "id": "2a091d5e",
   "metadata": {},
   "outputs": [],
   "source": []
  },
  {
   "cell_type": "code",
   "execution_count": null,
   "id": "2516a203",
   "metadata": {},
   "outputs": [],
   "source": []
  },
  {
   "cell_type": "code",
   "execution_count": null,
   "id": "16c92b21",
   "metadata": {},
   "outputs": [],
   "source": []
  },
  {
   "cell_type": "code",
   "execution_count": null,
   "id": "51794e11",
   "metadata": {},
   "outputs": [],
   "source": []
  },
  {
   "cell_type": "code",
   "execution_count": null,
   "id": "88e38197",
   "metadata": {},
   "outputs": [],
   "source": []
  },
  {
   "cell_type": "code",
   "execution_count": null,
   "id": "045aa484",
   "metadata": {},
   "outputs": [],
   "source": []
  },
  {
   "cell_type": "code",
   "execution_count": null,
   "id": "bfdcc2a2",
   "metadata": {},
   "outputs": [],
   "source": []
  },
  {
   "cell_type": "code",
   "execution_count": null,
   "id": "37261c8a",
   "metadata": {},
   "outputs": [],
   "source": []
  }
 ],
 "metadata": {
  "kernelspec": {
   "display_name": "Python 3",
   "language": "python",
   "name": "python3"
  },
  "language_info": {
   "codemirror_mode": {
    "name": "ipython",
    "version": 3
   },
   "file_extension": ".py",
   "mimetype": "text/x-python",
   "name": "python",
   "nbconvert_exporter": "python",
   "pygments_lexer": "ipython3",
   "version": "3.8.8"
  }
 },
 "nbformat": 4,
 "nbformat_minor": 5
}
