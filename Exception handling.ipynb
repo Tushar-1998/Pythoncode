{
 "cells": [
  {
   "cell_type": "markdown",
   "id": "0344b4db",
   "metadata": {},
   "source": [
    "# Exception.\n",
    "any error other than sytax errors are called as exception\n",
    "Exceptions can be handled."
   ]
  },
  {
   "cell_type": "code",
   "execution_count": 1,
   "id": "ac2f7e70",
   "metadata": {},
   "outputs": [
    {
     "name": "stdout",
     "output_type": "stream",
     "text": [
      "hello world\n",
      "Name variable is not defined\n",
      "Welcome to exception handling\n",
      "Thank you\n"
     ]
    }
   ],
   "source": [
    "#EX1\n",
    "print(\"hello world\")\n",
    "\n",
    "try:\n",
    "    print(name)\n",
    "except:\n",
    "    print(\"Name variable is not defined\")\n",
    "      \n",
    "print('Welcome to exception handling')\n",
    "print('Thank you')"
   ]
  },
  {
   "cell_type": "code",
   "execution_count": 2,
   "id": "2741fb44",
   "metadata": {},
   "outputs": [],
   "source": [
    "#Ex2\n",
    "#list\n",
    "list1 = [1,2,3,4,5]"
   ]
  },
  {
   "cell_type": "code",
   "execution_count": 5,
   "id": "97b69470",
   "metadata": {},
   "outputs": [
    {
     "ename": "IndexError",
     "evalue": "list index out of range",
     "output_type": "error",
     "traceback": [
      "\u001b[1;31m---------------------------------------------------------------------------\u001b[0m",
      "\u001b[1;31mIndexError\u001b[0m                                Traceback (most recent call last)",
      "\u001b[1;32m<ipython-input-5-341a305bd6fc>\u001b[0m in \u001b[0;36m<module>\u001b[1;34m\u001b[0m\n\u001b[0;32m      1\u001b[0m \u001b[1;31m#without try except\u001b[0m\u001b[1;33m\u001b[0m\u001b[1;33m\u001b[0m\u001b[1;33m\u001b[0m\u001b[0m\n\u001b[0;32m      2\u001b[0m \u001b[0mindex\u001b[0m \u001b[1;33m=\u001b[0m \u001b[1;36m5\u001b[0m\u001b[1;33m\u001b[0m\u001b[1;33m\u001b[0m\u001b[0m\n\u001b[1;32m----> 3\u001b[1;33m \u001b[0melem\u001b[0m \u001b[1;33m=\u001b[0m \u001b[0mlist1\u001b[0m\u001b[1;33m[\u001b[0m\u001b[0mindex\u001b[0m\u001b[1;33m]\u001b[0m\u001b[1;33m\u001b[0m\u001b[1;33m\u001b[0m\u001b[0m\n\u001b[0m\u001b[0;32m      4\u001b[0m \u001b[0mprint\u001b[0m\u001b[1;33m(\u001b[0m\u001b[1;34m'element = '\u001b[0m\u001b[1;33m,\u001b[0m\u001b[0melem\u001b[0m\u001b[1;33m)\u001b[0m\u001b[1;33m\u001b[0m\u001b[1;33m\u001b[0m\u001b[0m\n",
      "\u001b[1;31mIndexError\u001b[0m: list index out of range"
     ]
    }
   ],
   "source": [
    "#without try except\n",
    "index = 5\n",
    "elem = list1[index]\n",
    "print('element = ',elem)"
   ]
  },
  {
   "cell_type": "code",
   "execution_count": 6,
   "id": "1a387222",
   "metadata": {},
   "outputs": [
    {
     "name": "stdout",
     "output_type": "stream",
     "text": [
      "element =  5\n"
     ]
    }
   ],
   "source": [
    "#with try except\n",
    "try:\n",
    "    index = 4\n",
    "    elem = list1[index]\n",
    "    print('element = ',elem)\n",
    "except:\n",
    "    print('Invalid index')"
   ]
  },
  {
   "cell_type": "markdown",
   "id": "6ffb7fcd",
   "metadata": {},
   "source": [
    "# Excepting multiple errors\n",
    "\n",
    "# Ex 5.1 : Dividing two numbers without try except block"
   ]
  },
  {
   "cell_type": "code",
   "execution_count": null,
   "id": "294b1860",
   "metadata": {},
   "outputs": [],
   "source": [
    "\n",
    "print(\"start of the program\")\n",
    "\n",
    "num1 = int(input(\"Enter the numerator : \"))\n",
    "num2 = int(input(\"Enter the denominator : \"))\n",
    "\n",
    "print('Numerator = {} , Denominator = {}'.format(num1,num2))\n",
    "\n",
    "result = num1/num2\n",
    "\n",
    "print(\"result = \",result)\n",
    "print(\"End of program\")"
   ]
  },
  {
   "cell_type": "markdown",
   "id": "2e9f7541",
   "metadata": {},
   "source": [
    "\n",
    "# Ex 5.2 : Dividing two numbers with only one except block"
   ]
  },
  {
   "cell_type": "code",
   "execution_count": 11,
   "id": "153e7d7e",
   "metadata": {},
   "outputs": [
    {
     "name": "stdout",
     "output_type": "stream",
     "text": [
      "start of the program\n",
      "Enter the numerator : 10\n",
      "Enter the denominator : 10\n",
      "Numerator = 10 , Denominator = 10\n",
      "result =  1.0\n",
      "End of program\n"
     ]
    }
   ],
   "source": [
    "print(\"start of the program\")\n",
    "\n",
    "try:\n",
    "    num1 = int(input(\"Enter the numerator : \"))\n",
    "    num2 = int(input(\"Enter the denominator : \"))\n",
    "\n",
    "    print('Numerator = {} , Denominator = {}'.format(num1,num2))\n",
    "\n",
    "    result = num1/num2\n",
    "    print(\"result = \",result)\n",
    "except ZeroDivisionError:\n",
    "    print(\"Enter a non- zero denominator\")\n",
    "except ValueError:\n",
    "    print(\"Enter Int Only\")\n",
    "finally:\n",
    "    print(\"End of program\")"
   ]
  },
  {
   "cell_type": "code",
   "execution_count": null,
   "id": "dbca838a",
   "metadata": {},
   "outputs": [],
   "source": []
  }
 ],
 "metadata": {
  "kernelspec": {
   "display_name": "Python 3",
   "language": "python",
   "name": "python3"
  },
  "language_info": {
   "codemirror_mode": {
    "name": "ipython",
    "version": 3
   },
   "file_extension": ".py",
   "mimetype": "text/x-python",
   "name": "python",
   "nbconvert_exporter": "python",
   "pygments_lexer": "ipython3",
   "version": "3.8.8"
  }
 },
 "nbformat": 4,
 "nbformat_minor": 5
}
