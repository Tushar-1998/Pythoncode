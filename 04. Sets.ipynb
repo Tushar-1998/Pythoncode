{
 "cells": [
  {
   "cell_type": "markdown",
   "id": "da74386e",
   "metadata": {},
   "source": [
    "# Task 4. other inbuilt methods like."
   ]
  },
  {
   "cell_type": "code",
   "execution_count": 2,
   "id": "10306159",
   "metadata": {},
   "outputs": [],
   "source": [
    "#difference() \n",
    "setA = {'a', 'b', 'c', 'd'}\n",
    "setB = {'c', 'f', 'g'}"
   ]
  },
  {
   "cell_type": "code",
   "execution_count": 3,
   "id": "16aa7f64",
   "metadata": {},
   "outputs": [
    {
     "name": "stdout",
     "output_type": "stream",
     "text": [
      "{'a', 'c', 'd', 'b'}\n",
      "{'g', 'c', 'f'}\n"
     ]
    }
   ],
   "source": [
    "print(setA)\n",
    "print(setB)"
   ]
  },
  {
   "cell_type": "code",
   "execution_count": 4,
   "id": "e0de46a2",
   "metadata": {},
   "outputs": [],
   "source": [
    "setC = setA.difference(setB)"
   ]
  },
  {
   "cell_type": "code",
   "execution_count": 5,
   "id": "96b3134d",
   "metadata": {},
   "outputs": [
    {
     "name": "stdout",
     "output_type": "stream",
     "text": [
      "{'a', 'd', 'b'}\n"
     ]
    }
   ],
   "source": [
    "print(setC)"
   ]
  },
  {
   "cell_type": "code",
   "execution_count": 9,
   "id": "fc520fa4",
   "metadata": {},
   "outputs": [],
   "source": [
    "#set symmetric_difference\n",
    "A = {'a', 'b', 'c', 'd'}\n",
    "B = {'c', 'd', 'e' }\n",
    "C = {}"
   ]
  },
  {
   "cell_type": "code",
   "execution_count": 10,
   "id": "86a8bdfb",
   "metadata": {},
   "outputs": [
    {
     "name": "stdout",
     "output_type": "stream",
     "text": [
      "{'a', 'e', 'b'}\n",
      "{'a', 'e', 'b'}\n"
     ]
    }
   ],
   "source": [
    "print(A.symmetric_difference(B))\n",
    "print(B.symmetric_difference(A))"
   ]
  },
  {
   "cell_type": "code",
   "execution_count": null,
   "id": "a62338d9",
   "metadata": {},
   "outputs": [],
   "source": []
  }
 ],
 "metadata": {
  "kernelspec": {
   "display_name": "Python 3",
   "language": "python",
   "name": "python3"
  },
  "language_info": {
   "codemirror_mode": {
    "name": "ipython",
    "version": 3
   },
   "file_extension": ".py",
   "mimetype": "text/x-python",
   "name": "python",
   "nbconvert_exporter": "python",
   "pygments_lexer": "ipython3",
   "version": "3.8.8"
  }
 },
 "nbformat": 4,
 "nbformat_minor": 5
}
