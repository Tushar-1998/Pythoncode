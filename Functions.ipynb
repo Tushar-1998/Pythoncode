{
 "cells": [
  {
   "cell_type": "markdown",
   "id": "00476529",
   "metadata": {},
   "source": [
    "# Task 11.1"
   ]
  },
  {
   "cell_type": "raw",
   "id": "7dd8ef25",
   "metadata": {},
   "source": [
    "# Explain Return keyword with example.\n",
    "return keyword: A return statement is used to end the execution of the function call and “returns” the result \n",
    "(value of the expression following the return keyword) to the caller. \n",
    "The statements after the return statements are not executed. \n",
    "If the return statement is without any expression, then the special value None is returned."
   ]
  },
  {
   "cell_type": "code",
   "execution_count": 1,
   "id": "99d961a9",
   "metadata": {},
   "outputs": [
    {
     "name": "stdout",
     "output_type": "stream",
     "text": [
      "11\n"
     ]
    }
   ],
   "source": [
    "#Ex1) Example on return keyword.\n",
    "a=1\n",
    "def add(b):\n",
    "  return a+b\n",
    "\n",
    "c=add(10)\n",
    "print(c)"
   ]
  },
  {
   "cell_type": "markdown",
   "id": "ff61c86d",
   "metadata": {},
   "source": [
    "# Task 11.2"
   ]
  },
  {
   "cell_type": "code",
   "execution_count": 2,
   "id": "27f994fe",
   "metadata": {},
   "outputs": [
    {
     "name": "stdout",
     "output_type": "stream",
     "text": [
      "Enter Two numbers :Enter first number:10\n",
      "Enter Second number:50\n",
      "Enter the Operator (+,-,*,/): +\n",
      "\n",
      "10 + 50 = 60\n"
     ]
    }
   ],
   "source": [
    "#Ask 2 numbers from users and store it in num1 and num2\n",
    "def add(a, b):\n",
    "    return a+b\n",
    "def subs(a, b):\n",
    "    return a-b\n",
    "def mul(a, b):\n",
    "    return a*b\n",
    "def div(a, b):\n",
    "    return a/b\n",
    "print(\"Enter Two numbers :\", end=\"\")\n",
    "num1 = int(input(\"Enter first number:\"))\n",
    "num2 = int(input(\"Enter Second number:\"))\n",
    "print(\"Enter the Operator (+,-,*,/): \", end=\"\")\n",
    "ch = input()\n",
    "if ch=='+':\n",
    "    print(\"\\n\" +str(num1)+ \" + \" +str(num2)+ \" = \" +str(add(num1, num2)))\n",
    "elif ch=='-':\n",
    "    print(\"\\n\" +str(num1)+ \" - \" +str(num2)+ \" = \" +str(sub(num1, num2)))\n",
    "elif ch=='*':\n",
    "    print(\"\\n\" +str(num1)+ \" * \" +str(num2)+ \" = \" +str(mul(num1, num2)))\n",
    "elif ch=='/':\n",
    "    print(\"\\n\" +str(num1)+ \" / \" +str(num2)+ \" = \" +str(div(num1, num2)))\n",
    "else:\n",
    "    print(\"\\nInvalid Operator!\")"
   ]
  },
  {
   "cell_type": "code",
   "execution_count": null,
   "id": "7078d0b4",
   "metadata": {},
   "outputs": [],
   "source": []
  },
  {
   "cell_type": "code",
   "execution_count": null,
   "id": "dbb1729d",
   "metadata": {},
   "outputs": [],
   "source": []
  },
  {
   "cell_type": "code",
   "execution_count": null,
   "id": "aafe6c0a",
   "metadata": {},
   "outputs": [],
   "source": []
  },
  {
   "cell_type": "code",
   "execution_count": null,
   "id": "851d381d",
   "metadata": {},
   "outputs": [],
   "source": []
  },
  {
   "cell_type": "code",
   "execution_count": null,
   "id": "2e8b37a5",
   "metadata": {},
   "outputs": [],
   "source": []
  },
  {
   "cell_type": "code",
   "execution_count": null,
   "id": "22422474",
   "metadata": {},
   "outputs": [],
   "source": []
  }
 ],
 "metadata": {
  "kernelspec": {
   "display_name": "Python 3",
   "language": "python",
   "name": "python3"
  },
  "language_info": {
   "codemirror_mode": {
    "name": "ipython",
    "version": 3
   },
   "file_extension": ".py",
   "mimetype": "text/x-python",
   "name": "python",
   "nbconvert_exporter": "python",
   "pygments_lexer": "ipython3",
   "version": "3.8.8"
  }
 },
 "nbformat": 4,
 "nbformat_minor": 5
}
