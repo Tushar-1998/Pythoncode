{
 "cells": [
  {
   "cell_type": "markdown",
   "id": "26be95c8",
   "metadata": {},
   "source": [
    "# Task 2 .Dictionary"
   ]
  },
  {
   "cell_type": "code",
   "execution_count": 9,
   "id": "8215741e",
   "metadata": {},
   "outputs": [],
   "source": [
    "dict2 = { \n",
    "   \"april_batch\":{ \n",
    "      \"student\":{ \n",
    "         \"name\":\"Mike\",\n",
    "         \"marks\":{ \n",
    "            \"python\":80,\n",
    "            \"maths\":70\n",
    "         }\n",
    "      }\n",
    "   }\n",
    "}\n"
   ]
  },
  {
   "cell_type": "code",
   "execution_count": 10,
   "id": "3e65de83",
   "metadata": {},
   "outputs": [],
   "source": [
    "x = dict2"
   ]
  },
  {
   "cell_type": "code",
   "execution_count": 11,
   "id": "191399d8",
   "metadata": {},
   "outputs": [
    {
     "name": "stdout",
     "output_type": "stream",
     "text": [
      "{'april_batch': {'student': {'name': 'Mike', 'marks': {'python': 80, 'maths': 70}}}}\n"
     ]
    }
   ],
   "source": [
    "print(x)"
   ]
  },
  {
   "cell_type": "code",
   "execution_count": 12,
   "id": "641438be",
   "metadata": {},
   "outputs": [
    {
     "data": {
      "text/plain": [
       "'Mike'"
      ]
     },
     "execution_count": 12,
     "metadata": {},
     "output_type": "execute_result"
    }
   ],
   "source": [
    "#accessing mike\n",
    "dict2[\"april_batch\"][\"student\"][\"name\"]"
   ]
  },
  {
   "cell_type": "code",
   "execution_count": 13,
   "id": "29ca310c",
   "metadata": {},
   "outputs": [
    {
     "data": {
      "text/plain": [
       "80"
      ]
     },
     "execution_count": 13,
     "metadata": {},
     "output_type": "execute_result"
    }
   ],
   "source": [
    "# accessing 80\n",
    "dict2[\"april_batch\"][\"student\"][\"marks\"][\"python\"]"
   ]
  },
  {
   "cell_type": "code",
   "execution_count": 14,
   "id": "89427f97",
   "metadata": {},
   "outputs": [],
   "source": [
    "# change Mike to Tushar\n",
    "dict2[\"april_batch\"][\"student\"][\"name\"] = \"Tushar\""
   ]
  },
  {
   "cell_type": "code",
   "execution_count": 15,
   "id": "93927b40",
   "metadata": {},
   "outputs": [
    {
     "name": "stdout",
     "output_type": "stream",
     "text": [
      "{'april_batch': {'student': {'name': 'Tushar', 'marks': {'python': 80, 'maths': 70}}}}\n"
     ]
    }
   ],
   "source": [
    "print(dict2)"
   ]
  },
  {
   "cell_type": "code",
   "execution_count": null,
   "id": "3dc5c97f",
   "metadata": {},
   "outputs": [],
   "source": [
    "# add Ml = 80 & dl = 80 inside marks.\n",
    "dict2[\"marks\"] = \"ml : 80\", \"dl : 80\""
   ]
  },
  {
   "cell_type": "code",
   "execution_count": 19,
   "id": "bbcd5407",
   "metadata": {},
   "outputs": [
    {
     "name": "stdout",
     "output_type": "stream",
     "text": [
      "{'april_batch': {'student': {'name': 'Tushar', 'marks': {'python': 80, 'maths': 70}}}}\n"
     ]
    }
   ],
   "source": [
    "print(dict2)"
   ]
  },
  {
   "cell_type": "code",
   "execution_count": null,
   "id": "4eefb3d4",
   "metadata": {},
   "outputs": [],
   "source": []
  }
 ],
 "metadata": {
  "kernelspec": {
   "display_name": "Python 3",
   "language": "python",
   "name": "python3"
  },
  "language_info": {
   "codemirror_mode": {
    "name": "ipython",
    "version": 3
   },
   "file_extension": ".py",
   "mimetype": "text/x-python",
   "name": "python",
   "nbconvert_exporter": "python",
   "pygments_lexer": "ipython3",
   "version": "3.8.8"
  }
 },
 "nbformat": 4,
 "nbformat_minor": 5
}
