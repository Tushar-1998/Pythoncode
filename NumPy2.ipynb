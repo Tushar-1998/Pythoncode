{
 "cells": [
  {
   "cell_type": "markdown",
   "id": "5abcb1a1",
   "metadata": {},
   "source": [
    "### Random numbers in numpy¶"
   ]
  },
  {
   "cell_type": "code",
   "execution_count": null,
   "id": "6e3379b0",
   "metadata": {},
   "outputs": [],
   "source": [
    "# np.random.random()\n",
    "generates a random number from 0 to 1"
   ]
  },
  {
   "cell_type": "code",
   "execution_count": 1,
   "id": "f17fade8",
   "metadata": {},
   "outputs": [],
   "source": [
    "import numpy as np"
   ]
  },
  {
   "cell_type": "code",
   "execution_count": 2,
   "id": "08bdfff9",
   "metadata": {},
   "outputs": [
    {
     "name": "stdout",
     "output_type": "stream",
     "text": [
      "0.2378620427115029\n"
     ]
    }
   ],
   "source": [
    "print(np.random.random())"
   ]
  },
  {
   "cell_type": "code",
   "execution_count": 3,
   "id": "dc58c9d9",
   "metadata": {},
   "outputs": [
    {
     "name": "stdout",
     "output_type": "stream",
     "text": [
      "0.4844559791657054\n",
      "0.7177214474377448\n",
      "0.10546821330515743\n",
      "0.04624174323169861\n"
     ]
    }
   ],
   "source": [
    "print(np.random.random())\n",
    "print(np.random.random())\n",
    "print(np.random.random())\n",
    "print(np.random.random())"
   ]
  },
  {
   "cell_type": "code",
   "execution_count": 4,
   "id": "4668ff5e",
   "metadata": {},
   "outputs": [
    {
     "name": "stdout",
     "output_type": "stream",
     "text": [
      "0.36656971322774934\n",
      "0.5452747613117336\n",
      "0.09374986303754296\n",
      "0.0966470668702426\n"
     ]
    }
   ],
   "source": [
    "print(np.random.random())\n",
    "print(np.random.random())\n",
    "print(np.random.random())\n",
    "print(np.random.random())"
   ]
  },
  {
   "cell_type": "code",
   "execution_count": 6,
   "id": "aab0b529",
   "metadata": {},
   "outputs": [],
   "source": [
    "np.random.seed()"
   ]
  },
  {
   "cell_type": "code",
   "execution_count": 7,
   "id": "688700b1",
   "metadata": {},
   "outputs": [
    {
     "name": "stdout",
     "output_type": "stream",
     "text": [
      "0.5434049417909654\n",
      "0.27836938509379616\n",
      "0.4245175907491331\n",
      "0.8447761323199037\n"
     ]
    }
   ],
   "source": [
    "np.random.seed(100)\n",
    "print(np.random.random())\n",
    "print(np.random.random())\n",
    "print(np.random.random())\n",
    "print(np.random.random())"
   ]
  },
  {
   "cell_type": "code",
   "execution_count": 8,
   "id": "6b9b3c3d",
   "metadata": {},
   "outputs": [
    {
     "data": {
      "text/plain": [
       "array([[0.00471886, 0.12156912, 0.67074908, 0.82585276],\n",
       "       [0.13670659, 0.57509333, 0.89132195, 0.20920212],\n",
       "       [0.18532822, 0.10837689, 0.21969749, 0.97862378],\n",
       "       [0.81168315, 0.17194101, 0.81622475, 0.27407375]])"
      ]
     },
     "execution_count": 8,
     "metadata": {},
     "output_type": "execute_result"
    }
   ],
   "source": [
    "# you can specify the shape\n",
    "x = np.random.random((4, 4))\n",
    "x"
   ]
  },
  {
   "cell_type": "markdown",
   "id": "45d5630a",
   "metadata": {},
   "source": [
    "### np.random.randint()"
   ]
  },
  {
   "cell_type": "code",
   "execution_count": 9,
   "id": "02e1fd1c",
   "metadata": {},
   "outputs": [
    {
     "data": {
      "text/plain": [
       "79"
      ]
     },
     "execution_count": 9,
     "metadata": {},
     "output_type": "execute_result"
    }
   ],
   "source": [
    "num = np.random.randint(low = 20, high =100)\n",
    "num"
   ]
  },
  {
   "cell_type": "code",
   "execution_count": 11,
   "id": "37a3390e",
   "metadata": {},
   "outputs": [
    {
     "data": {
      "text/plain": [
       "array([81, 34, 75, 91, 22])"
      ]
     },
     "execution_count": 11,
     "metadata": {},
     "output_type": "execute_result"
    }
   ],
   "source": [
    "num = np.random.randint(low = 20, high = 100, size = 5)\n",
    "num"
   ]
  },
  {
   "cell_type": "code",
   "execution_count": null,
   "id": "23648b39",
   "metadata": {},
   "outputs": [],
   "source": []
  },
  {
   "cell_type": "markdown",
   "id": "d29d5c28",
   "metadata": {},
   "source": [
    "###  np.random.choice(list_of_choice,num_of_ele)"
   ]
  },
  {
   "cell_type": "code",
   "execution_count": 12,
   "id": "ae518699",
   "metadata": {},
   "outputs": [
    {
     "data": {
      "text/plain": [
       "[24, 27, 22, 47, 35, 82, -33, 25, 2.3, 18]"
      ]
     },
     "execution_count": 12,
     "metadata": {},
     "output_type": "execute_result"
    }
   ],
   "source": [
    "a = [24,27,22,47,35,82,-33,25,2.3,18]\n",
    "a"
   ]
  },
  {
   "cell_type": "code",
   "execution_count": 13,
   "id": "a4d85e22",
   "metadata": {},
   "outputs": [
    {
     "data": {
      "text/plain": [
       "array([18., 18., 47.])"
      ]
     },
     "execution_count": 13,
     "metadata": {},
     "output_type": "execute_result"
    }
   ],
   "source": [
    "np.random.choice(a,size = 3)"
   ]
  },
  {
   "cell_type": "code",
   "execution_count": 15,
   "id": "fb90e715",
   "metadata": {},
   "outputs": [
    {
     "data": {
      "text/plain": [
       "array([[ 22. ,  82. ,   2.3,  27. ,  24. ],\n",
       "       [ 25. , -33. ,  22. ,  24. ,   2.3],\n",
       "       [ 22. ,  82. ,  27. ,   2.3,  27. ],\n",
       "       [ 82. ,  35. ,  22. ,   2.3,  47. ],\n",
       "       [ 82. ,  24. ,  18. ,  47. , -33. ]])"
      ]
     },
     "execution_count": 15,
     "metadata": {},
     "output_type": "execute_result"
    }
   ],
   "source": [
    "np.random.choice(a,size = (5,5))"
   ]
  },
  {
   "cell_type": "code",
   "execution_count": null,
   "id": "69b965a2",
   "metadata": {},
   "outputs": [],
   "source": []
  },
  {
   "cell_type": "code",
   "execution_count": null,
   "id": "65d6535d",
   "metadata": {},
   "outputs": [],
   "source": []
  },
  {
   "cell_type": "markdown",
   "id": "7923dd59",
   "metadata": {},
   "source": [
    "###  Other Important functions"
   ]
  },
  {
   "cell_type": "code",
   "execution_count": 16,
   "id": "d1c9db79",
   "metadata": {},
   "outputs": [
    {
     "data": {
      "text/plain": [
       "array([[0.97500649, 0.88485329, 0.35950784, 0.59885895],\n",
       "       [0.35479561, 0.34019022, 0.17808099, 0.23769421],\n",
       "       [0.04486228, 0.50543143, 0.37625245, 0.5928054 ],\n",
       "       [0.62994188, 0.14260031, 0.9338413 , 0.94637988]])"
      ]
     },
     "execution_count": 16,
     "metadata": {},
     "output_type": "execute_result"
    }
   ],
   "source": [
    "x = np.random.random((4, 4))\n",
    "x"
   ]
  },
  {
   "cell_type": "markdown",
   "id": "a2ddde5e",
   "metadata": {},
   "source": [
    "####  np.round()"
   ]
  },
  {
   "cell_type": "code",
   "execution_count": null,
   "id": "fd1fb6cc",
   "metadata": {},
   "outputs": [],
   "source": [
    "#rounds an array to given number of decimals"
   ]
  },
  {
   "cell_type": "code",
   "execution_count": 17,
   "id": "80cc3f77",
   "metadata": {},
   "outputs": [
    {
     "data": {
      "text/plain": [
       "array([[0.975, 0.885, 0.36 , 0.599],\n",
       "       [0.355, 0.34 , 0.178, 0.238],\n",
       "       [0.045, 0.505, 0.376, 0.593],\n",
       "       [0.63 , 0.143, 0.934, 0.946]])"
      ]
     },
     "execution_count": 17,
     "metadata": {},
     "output_type": "execute_result"
    }
   ],
   "source": [
    "# to round it to 3 decimal points\n",
    "rounded = np.round(x, 3)\n",
    "rounded"
   ]
  },
  {
   "cell_type": "code",
   "execution_count": 18,
   "id": "f869efef",
   "metadata": {},
   "outputs": [
    {
     "data": {
      "text/plain": [
       "array([[97.5, 88.5, 36. , 59.9],\n",
       "       [35.5, 34. , 17.8, 23.8],\n",
       "       [ 4.5, 50.5, 37.6, 59.3],\n",
       "       [63. , 14.3, 93.4, 94.6]])"
      ]
     },
     "execution_count": 18,
     "metadata": {},
     "output_type": "execute_result"
    }
   ],
   "source": [
    "new = rounded * 100\n",
    "new"
   ]
  },
  {
   "cell_type": "markdown",
   "id": "795d4291",
   "metadata": {},
   "source": [
    "### astype()"
   ]
  },
  {
   "cell_type": "code",
   "execution_count": null,
   "id": "55e1486c",
   "metadata": {},
   "outputs": [],
   "source": [
    "#to change the data type of elements"
   ]
  },
  {
   "cell_type": "code",
   "execution_count": 19,
   "id": "f19d3829",
   "metadata": {},
   "outputs": [
    {
     "data": {
      "text/plain": [
       "array([[97, 88, 36, 59],\n",
       "       [35, 34, 17, 23],\n",
       "       [ 4, 50, 37, 59],\n",
       "       [63, 14, 93, 94]])"
      ]
     },
     "execution_count": 19,
     "metadata": {},
     "output_type": "execute_result"
    }
   ],
   "source": [
    "# to change the data type of elements to integers\n",
    "intt = new.astype(int)\n",
    "intt"
   ]
  },
  {
   "cell_type": "code",
   "execution_count": 20,
   "id": "f355ec17",
   "metadata": {},
   "outputs": [
    {
     "data": {
      "text/plain": [
       "array([[97., 88., 36., 59.],\n",
       "       [35., 34., 17., 23.],\n",
       "       [ 4., 50., 37., 59.],\n",
       "       [63., 14., 93., 94.]])"
      ]
     },
     "execution_count": 20,
     "metadata": {},
     "output_type": "execute_result"
    }
   ],
   "source": [
    "# to change the data type of elements to float\n",
    "flt = intt.astype(float)\n",
    "flt"
   ]
  },
  {
   "cell_type": "code",
   "execution_count": null,
   "id": "466327c3",
   "metadata": {},
   "outputs": [],
   "source": []
  },
  {
   "cell_type": "code",
   "execution_count": null,
   "id": "627c7be1",
   "metadata": {},
   "outputs": [],
   "source": []
  },
  {
   "cell_type": "code",
   "execution_count": null,
   "id": "911e70ee",
   "metadata": {},
   "outputs": [],
   "source": []
  },
  {
   "cell_type": "code",
   "execution_count": null,
   "id": "646048ec",
   "metadata": {},
   "outputs": [],
   "source": []
  },
  {
   "cell_type": "code",
   "execution_count": null,
   "id": "5027d29e",
   "metadata": {},
   "outputs": [],
   "source": []
  },
  {
   "cell_type": "code",
   "execution_count": null,
   "id": "b956304e",
   "metadata": {},
   "outputs": [],
   "source": []
  },
  {
   "cell_type": "code",
   "execution_count": null,
   "id": "b0c1b501",
   "metadata": {},
   "outputs": [],
   "source": []
  },
  {
   "cell_type": "code",
   "execution_count": null,
   "id": "1fce07b7",
   "metadata": {},
   "outputs": [],
   "source": []
  },
  {
   "cell_type": "code",
   "execution_count": null,
   "id": "fdcb789c",
   "metadata": {},
   "outputs": [],
   "source": []
  },
  {
   "cell_type": "code",
   "execution_count": null,
   "id": "871f2a05",
   "metadata": {},
   "outputs": [],
   "source": []
  },
  {
   "cell_type": "code",
   "execution_count": null,
   "id": "50cb8e24",
   "metadata": {},
   "outputs": [],
   "source": []
  },
  {
   "cell_type": "code",
   "execution_count": null,
   "id": "f52671a8",
   "metadata": {},
   "outputs": [],
   "source": []
  },
  {
   "cell_type": "code",
   "execution_count": null,
   "id": "77881687",
   "metadata": {},
   "outputs": [],
   "source": []
  },
  {
   "cell_type": "code",
   "execution_count": null,
   "id": "594b2a70",
   "metadata": {},
   "outputs": [],
   "source": []
  },
  {
   "cell_type": "code",
   "execution_count": null,
   "id": "e0dd459e",
   "metadata": {},
   "outputs": [],
   "source": []
  },
  {
   "cell_type": "code",
   "execution_count": null,
   "id": "9415e982",
   "metadata": {},
   "outputs": [],
   "source": []
  },
  {
   "cell_type": "code",
   "execution_count": null,
   "id": "c063eeb8",
   "metadata": {},
   "outputs": [],
   "source": []
  },
  {
   "cell_type": "code",
   "execution_count": null,
   "id": "fd8e80d4",
   "metadata": {},
   "outputs": [],
   "source": []
  },
  {
   "cell_type": "code",
   "execution_count": null,
   "id": "acc35b7e",
   "metadata": {},
   "outputs": [],
   "source": []
  },
  {
   "cell_type": "code",
   "execution_count": null,
   "id": "c20ebb07",
   "metadata": {},
   "outputs": [],
   "source": []
  }
 ],
 "metadata": {
  "kernelspec": {
   "display_name": "Python 3",
   "language": "python",
   "name": "python3"
  },
  "language_info": {
   "codemirror_mode": {
    "name": "ipython",
    "version": 3
   },
   "file_extension": ".py",
   "mimetype": "text/x-python",
   "name": "python",
   "nbconvert_exporter": "python",
   "pygments_lexer": "ipython3",
   "version": "3.8.8"
  }
 },
 "nbformat": 4,
 "nbformat_minor": 5
}
