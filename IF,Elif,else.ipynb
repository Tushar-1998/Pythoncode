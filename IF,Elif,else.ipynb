{
 "cells": [
  {
   "cell_type": "code",
   "execution_count": 1,
   "id": "e88cdbd2",
   "metadata": {},
   "outputs": [
    {
     "ename": "SyntaxError",
     "evalue": "invalid syntax (<ipython-input-1-7d12a225f9e7>, line 1)",
     "output_type": "error",
     "traceback": [
      "\u001b[1;36m  File \u001b[1;32m\"<ipython-input-1-7d12a225f9e7>\"\u001b[1;36m, line \u001b[1;32m1\u001b[0m\n\u001b[1;33m    <img src = \"Hello_world.jpeg\" width = \"500\" height = \"500\">\u001b[0m\n\u001b[1;37m    ^\u001b[0m\n\u001b[1;31mSyntaxError\u001b[0m\u001b[1;31m:\u001b[0m invalid syntax\n"
     ]
    }
   ],
   "source": [
    "<img src = \"Hello_world.jpeg\" width = \"500\" height = \"500\">\n"
   ]
  },
  {
   "cell_type": "code",
   "execution_count": 12,
   "id": "235b66ec",
   "metadata": {},
   "outputs": [
    {
     "name": "stdout",
     "output_type": "stream",
     "text": [
      "remainder is not equals to 2\n"
     ]
    }
   ],
   "source": [
    "#Session Task do a/b, check if the remainder is = 2 or not\n",
    "a = 10\n",
    "b = 3 \n",
    "if(a%b == 2):\n",
    "    print(\"remainder is 2\")\n",
    "else:\n",
    "    print(\"remainder is not equals to 2\")"
   ]
  },
  {
   "cell_type": "code",
   "execution_count": 11,
   "id": "98227567",
   "metadata": {},
   "outputs": [
    {
     "name": "stdout",
     "output_type": "stream",
     "text": [
      "a is positive\n"
     ]
    }
   ],
   "source": [
    "a = 5\n",
    "if(a>0):\n",
    "    print(\"a is positive\")\n",
    "else:\n",
    "        print(\"a is negative\")"
   ]
  },
  {
   "cell_type": "code",
   "execution_count": 7,
   "id": "344634c5",
   "metadata": {},
   "outputs": [
    {
     "name": "stdout",
     "output_type": "stream",
     "text": [
      "10\n"
     ]
    }
   ],
   "source": [
    "# task 9\n",
    "#Ask 2 numbers from users and store it in num1 and num2\n",
    "num1 = input()"
   ]
  },
  {
   "cell_type": "code",
   "execution_count": 4,
   "id": "9ff924c5",
   "metadata": {},
   "outputs": [
    {
     "name": "stdout",
     "output_type": "stream",
     "text": [
      "10\n"
     ]
    }
   ],
   "source": [
    "print(num1)"
   ]
  },
  {
   "cell_type": "code",
   "execution_count": 5,
   "id": "0ff8b87a",
   "metadata": {},
   "outputs": [
    {
     "name": "stdout",
     "output_type": "stream",
     "text": [
      "20\n"
     ]
    }
   ],
   "source": [
    "num2 = input()"
   ]
  },
  {
   "cell_type": "code",
   "execution_count": 6,
   "id": "866087c5",
   "metadata": {},
   "outputs": [
    {
     "name": "stdout",
     "output_type": "stream",
     "text": [
      "20\n"
     ]
    }
   ],
   "source": [
    "print(num2)"
   ]
  },
  {
   "cell_type": "code",
   "execution_count": 16,
   "id": "976f8c75",
   "metadata": {},
   "outputs": [],
   "source": [
    "#based on number given by user do the math operation\n",
    "num1 = 15\n",
    "num2 = 10"
   ]
  },
  {
   "cell_type": "code",
   "execution_count": 17,
   "id": "69a57c00",
   "metadata": {},
   "outputs": [
    {
     "data": {
      "text/plain": [
       "25"
      ]
     },
     "execution_count": 17,
     "metadata": {},
     "output_type": "execute_result"
    }
   ],
   "source": [
    "#addition\n",
    "num1 + num2 "
   ]
  },
  {
   "cell_type": "code",
   "execution_count": 18,
   "id": "4a706898",
   "metadata": {},
   "outputs": [
    {
     "data": {
      "text/plain": [
       "5"
      ]
     },
     "execution_count": 18,
     "metadata": {},
     "output_type": "execute_result"
    }
   ],
   "source": [
    "#substraction\n",
    "num1 - num2"
   ]
  },
  {
   "cell_type": "code",
   "execution_count": 19,
   "id": "a72ea4c6",
   "metadata": {},
   "outputs": [
    {
     "data": {
      "text/plain": [
       "1.5"
      ]
     },
     "execution_count": 19,
     "metadata": {},
     "output_type": "execute_result"
    }
   ],
   "source": [
    "#division\n",
    "num1/num2"
   ]
  },
  {
   "cell_type": "code",
   "execution_count": 20,
   "id": "2bc5b7be",
   "metadata": {},
   "outputs": [
    {
     "data": {
      "text/plain": [
       "150"
      ]
     },
     "execution_count": 20,
     "metadata": {},
     "output_type": "execute_result"
    }
   ],
   "source": [
    "#multiplication\n",
    "num1*num2"
   ]
  },
  {
   "cell_type": "code",
   "execution_count": 21,
   "id": "1c533064",
   "metadata": {},
   "outputs": [
    {
     "data": {
      "text/plain": [
       "5"
      ]
     },
     "execution_count": 21,
     "metadata": {},
     "output_type": "execute_result"
    }
   ],
   "source": [
    "#remainder\n",
    "num1%num2"
   ]
  },
  {
   "cell_type": "code",
   "execution_count": null,
   "id": "423d0215",
   "metadata": {},
   "outputs": [],
   "source": []
  }
 ],
 "metadata": {
  "kernelspec": {
   "display_name": "Python 3",
   "language": "python",
   "name": "python3"
  },
  "language_info": {
   "codemirror_mode": {
    "name": "ipython",
    "version": 3
   },
   "file_extension": ".py",
   "mimetype": "text/x-python",
   "name": "python",
   "nbconvert_exporter": "python",
   "pygments_lexer": "ipython3",
   "version": "3.8.8"
  }
 },
 "nbformat": 4,
 "nbformat_minor": 5
}
